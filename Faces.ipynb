{
 "cells": [
  {
   "cell_type": "markdown",
   "id": "9d0904eb",
   "metadata": {},
   "source": [
    "# Prerequisites\n",
    "- OpenCV\n",
    "- `facemorpher`\n",
    "\n",
    "`pip install opencv-python 'facemorpher @ git+https://github.com/mnemocron/face_morpher@65c3013886171c545a8a2e3f0c9cc5667e997b4b'`"
   ]
  },
  {
   "cell_type": "code",
   "execution_count": 1,
   "id": "9821998c",
   "metadata": {},
   "outputs": [
    {
     "name": "stdout",
     "output_type": "stream",
     "text": [
      "Averaged 121 images\n",
      "democrat_men.png saved\n",
      "Averaged 91 images\n",
      "democrat_women.png saved\n",
      "Averaged 189 images\n",
      "republican_men.png saved\n",
      "Averaged 33 images\n",
      "republican_women.png saved\n",
      "Averaged 212 images\n",
      "democrats.png saved\n",
      "Averaged 222 images\n",
      "republicans.png saved\n",
      "Averaged 310 images\n",
      "men.png saved\n",
      "Averaged 124 images\n",
      "women.png saved\n"
     ]
    }
   ],
   "source": [
    "import facemorpher\n",
    "import os\n",
    "\n",
    "def get_imgpaths(*images_folders):\n",
    "  for images_folder in  images_folders:\n",
    "    for fname in os.listdir(images_folder):\n",
    "        yield os.path.join(images_folder, fname)\n",
    "\n",
    "democrat_men = get_imgpaths('Democrat/Man')\n",
    "democrat_women = get_imgpaths('Democrat/Woman')\n",
    "\n",
    "facemorpher.averager(democrat_men, out_filename='democrat_men.png', background='transparent', plot=False, width=1024, height=1024)\n",
    "facemorpher.averager(democrat_women, out_filename='democrat_women.png', background='transparent', plot=False, width=1024, height=1024)\n",
    "\n",
    "republican_men = get_imgpaths('Republican/Man')\n",
    "republican_women = get_imgpaths('Republican/Woman')\n",
    "\n",
    "facemorpher.averager(republican_men, out_filename='republican_men.png', background='transparent', plot=False, width=1024, height=1024)\n",
    "facemorpher.averager(republican_women, out_filename='republican_women.png', background='transparent', plot=False, width=1024, height=1024)\n",
    "\n",
    "democrats = get_imgpaths('Democrat/Man', 'Democrat/Woman')\n",
    "republicans = get_imgpaths('Republican/Man', 'Republican/Woman')\n",
    "\n",
    "facemorpher.averager(democrats, out_filename='democrats.png', background='transparent', plot=False, width=1024, height=1024)\n",
    "facemorpher.averager(republicans, out_filename='republicans.png', background='transparent', plot=False, width=1024, height=1024)\n",
    "\n",
    "men = get_imgpaths('Democrat/Man', 'Republican/Man')\n",
    "women = get_imgpaths('Democrat/Woman', 'Republican/Woman')\n",
    "\n",
    "facemorpher.averager(men, out_filename='men.png', background='transparent', plot=False, width=1024, height=1024)\n",
    "facemorpher.averager(women, out_filename='women.png', background='transparent', plot=False, width=1024, height=1024)"
   ]
  },
  {
   "cell_type": "markdown",
   "id": "17a21367",
   "metadata": {},
   "source": [
    "# Democrats\n",
    "<img src=\"democrats.png\" alt=\"Democrats\" width=128px height=128px />\n",
    "\n",
    "- **Men**: <img src=\"democrat_men.png\" alt=\"Democrat Men\" width=128px height=128px />\n",
    "- **Women**: <img src=\"democrat_women.png\" alt=\"Democrat Women\" width=128px height=128px />\n",
    "\n",
    "# Republicans\n",
    "<img src=\"republicans.png\" alt=\"Republicans\" width=128px height=128px />\n",
    "\n",
    "- **Men**: <img src=\"republican_men.png\" alt=\"Republican Men\" width=128px height=128px />\n",
    "- **Women**: <img src=\"republican_women.png\" alt=\"Republican Women\" width=128px height=128px />\n",
    "\n",
    "# By gender\n",
    "- **Men**: <img src=\"men.png\" alt=\"Men\" width=128px height=128px />\n",
    "- **Women**: <img src=\"women.png\" alt=\"Women\" width=128px height=128px />"
   ]
  }
 ],
 "metadata": {
  "kernelspec": {
   "display_name": "Python 3 (ipykernel)",
   "language": "python",
   "name": "python3"
  },
  "language_info": {
   "codemirror_mode": {
    "name": "ipython",
    "version": 3
   },
   "file_extension": ".py",
   "mimetype": "text/x-python",
   "name": "python",
   "nbconvert_exporter": "python",
   "pygments_lexer": "ipython3",
   "version": "3.10.9"
  }
 },
 "nbformat": 4,
 "nbformat_minor": 5
}
